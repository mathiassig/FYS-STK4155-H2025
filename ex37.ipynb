{
 "cells": [
  {
   "cell_type": "markdown",
   "id": "8e6632a0",
   "metadata": {
    "editable": true
   },
   "source": [
    "<!-- HTML file automatically generated from DocOnce source (https://github.com/doconce/doconce/)\n",
    "doconce format html exercisesweek37.do.txt  -->\n",
    "<!-- dom:TITLE: Exercises week 37 -->"
   ]
  },
  {
   "cell_type": "markdown",
   "id": "82705c4f",
   "metadata": {
    "editable": true
   },
   "source": [
    "# Exercises week 37\n",
    "**Implementing gradient descent for Ridge and ordinary Least Squares Regression**\n",
    "\n",
    "Date: **September 8-12, 2025**"
   ]
  },
  {
   "cell_type": "markdown",
   "id": "921bf331",
   "metadata": {
    "editable": true
   },
   "source": [
    "## Learning goals\n",
    "\n",
    "After having completed these exercises you will have:\n",
    "1. Your own code for the implementation of the simplest gradient descent approach applied to ordinary least squares (OLS) and Ridge regression\n",
    "\n",
    "2. Be able to compare the analytical expressions for OLS and Ridge regression with the gradient descent approach\n",
    "\n",
    "3. Explore the role of the learning rate in the gradient descent approach and the hyperparameter $\\lambda$ in Ridge regression\n",
    "\n",
    "4. Scale the data properly"
   ]
  },
  {
   "cell_type": "markdown",
   "id": "adff65d5",
   "metadata": {
    "editable": true
   },
   "source": [
    "## Simple one-dimensional second-order polynomial\n",
    "\n",
    "We start with a very simple function"
   ]
  },
  {
   "cell_type": "markdown",
   "id": "70418b3d",
   "metadata": {
    "editable": true
   },
   "source": [
    "$$\n",
    "f(x)= 2-x+5x^2,\n",
    "$$"
   ]
  },
  {
   "cell_type": "markdown",
   "id": "11a3cf73",
   "metadata": {
    "editable": true
   },
   "source": [
    "defined for $x\\in [-2,2]$. You can add noise if you wish. \n",
    "\n",
    "We are going to fit this function with a polynomial ansatz. The easiest thing is to set up a second-order polynomial and see if you can fit the above function.\n",
    "Feel free to play around with higher-order polynomials."
   ]
  },
  {
   "cell_type": "markdown",
   "id": "04a06b51",
   "metadata": {
    "editable": true
   },
   "source": [
    "## Exercise 1, scale your data\n",
    "\n",
    "Before fitting a regression model, it is good practice to normalize or\n",
    "standardize the features. This ensures all features are on a\n",
    "comparable scale, which is especially important when using\n",
    "regularization. Here we will perform standardization, scaling each\n",
    "feature to have mean 0 and standard deviation 1."
   ]
  },
  {
   "cell_type": "markdown",
   "id": "408db3d9",
   "metadata": {
    "editable": true
   },
   "source": [
    "### 1a)\n",
    "\n",
    "Compute the mean and standard deviation of each column (feature) in your design/feature matrix $\\boldsymbol{X}$.\n",
    "Subtract the mean and divide by the standard deviation for each feature.\n",
    "\n",
    "We will also center the target $\\boldsymbol{y}$ to mean $0$. Centering $\\boldsymbol{y}$\n",
    "(and each feature) means the model does not require a separate intercept\n",
    "term, the data is shifted such that the intercept is effectively 0\n",
    ". (In practice, one could include an intercept in the model and not\n",
    "penalize it, but here we simplify by centering.)\n",
    "Choose $n=100$ data points and set up $\\boldsymbol{x}$, $\\boldsymbol{y}$ and the design matrix $\\boldsymbol{X}$."
   ]
  },
  {
   "cell_type": "code",
   "execution_count": 3,
   "id": "37fb732c",
   "metadata": {
    "collapsed": false,
    "editable": true
   },
   "outputs": [],
   "source": [
    "# import libraries\n",
    "import numpy as np\n",
    "\n",
    "# set up n=100 data points\n",
    "x=np.random.uniform(low=-2, high=2, size=100)\n",
    "\n",
    "# make target data with random noise inserted\n",
    "y = 2-x+5*x**2 + np.random.normal(0, 0.1)\n",
    "\n",
    "n_features = 2 # p\n",
    "# use function from last week to make a design matrix\n",
    "def polynomial_features(x, p, intercept=False):\n",
    "    n = len(x)\n",
    "    if intercept:\n",
    "        X = np.zeros((n, p + 1))\n",
    "        for i in range(p+1):\n",
    "            X[:,i] = x**i\n",
    "    else:\n",
    "        X=np.zeros((n,p))\n",
    "        for i in range(p):\n",
    "            X[:,i] = x**(i+1)\n",
    "    return X\n",
    "\n",
    "X = polynomial_features(x,2)\n",
    "# Standardize features (zero mean, unit variance for each feature)\n",
    "X_mean = X.mean(axis=0)\n",
    "X_std = X.std(axis=0)\n",
    "X_std[X_std == 0] = 1  # safeguard to avoid division by zero for constant features\n",
    "X_norm = (X - X_mean) / X_std\n",
    "\n",
    "# Center the target to zero mean (optional, to simplify intercept handling)\n",
    "y_mean = y.mean()\n",
    "y_centered = y-y_mean"
   ]
  },
  {
   "cell_type": "markdown",
   "id": "d861e1e3",
   "metadata": {
    "editable": true
   },
   "source": [
    "Fill in the necessary details. Do we need to center the $y$-values? \n",
    "\n",
    "After this preprocessing, each column of $\\boldsymbol{X}_{\\mathrm{norm}}$ has mean zero and standard deviation $1$\n",
    "and $\\boldsymbol{y}_{\\mathrm{centered}}$ has mean 0. This makes the optimization landscape\n",
    "nicer and ensures the regularization penalty $\\lambda \\sum_j\n",
    "\\theta_j^2$ in Ridge regression treats each coefficient fairly (since features are on the\n",
    "same scale)."
   ]
  },
  {
   "cell_type": "markdown",
   "id": "b3e774d0",
   "metadata": {
    "editable": true
   },
   "source": [
    "## Exercise 2, calculate the gradients\n",
    "\n",
    "Find the gradients for OLS and Ridge regression using the mean-squared error as cost/loss function."
   ]
  },
  {
   "cell_type": "markdown",
   "id": "873581e8",
   "metadata": {},
   "source": [
    "$$\n",
    "C_{OLS} = \\frac{1}{n}(\\boldsymbol{y}-\\boldsymbol{X}\\boldsymbol{\\theta})^T(\\boldsymbol{y}-\\boldsymbol{X}\\boldsymbol{\\theta}),\n",
    "$$\n",
    "where $y$ is as column vector of length n, $X$ is an $n\\times p$ matrix and $\\theta$ is a column vector of length p.\n",
    "$$\n",
    "\\Rightarrow \\nabla_{\\theta}C_{OLS} = -\\frac{2}{n}(\\boldsymbol{y}-\\boldsymbol{X}\\boldsymbol{\\theta})^T\\boldsymbol{X},\n",
    "$$\n",
    "using the result of exercise 2 c) from week 35.\n",
    "$$\n",
    "C_{\\text{Ridge}} = \\frac{1}{n}(\\boldsymbol{y}-\\boldsymbol{X}\\boldsymbol{\\theta})^T(\\boldsymbol{y}-\\boldsymbol{X}\\boldsymbol{\\theta}) + \\lambda \\boldsymbol{\\theta}^T\\boldsymbol{\\theta}\n",
    "$$\n",
    "$$\n",
    "\\Rightarrow \\nabla_{\\theta}C_{\\text{Ridge}} = \\nabla_{\\theta}C_{OLS} + \\nabla_{\\theta}(\\lambda \\boldsymbol{\\theta}^T\\boldsymbol{\\theta}) = \\nabla_{\\theta}C_{OLS} + 2\\lambda\\boldsymbol{\\theta}^T\n",
    "$$\n",
    "$$\n",
    " = 2\\left(\\lambda\\boldsymbol{\\theta}^T-\\frac{1}{n}(\\boldsymbol{y}-\\boldsymbol{X}\\boldsymbol{\\theta})^T\\boldsymbol{X}\\right) = \\frac{2}{n}\\left(\\boldsymbol{\\theta}^T\\boldsymbol{X}^T\\boldsymbol{X}-\\boldsymbol{y}^T\\boldsymbol{X}\\right)+2\\lambda\\boldsymbol{\\theta}^T\n",
    "$$\n",
    "\n",
    "If we are to use these gradients in gradient descent, we need them to be column vectors. We take the transpose of the whole expression and arrive at\n",
    "$$\n",
    "\\nabla_{\\theta}C_{OLS} = \\frac{2}{n}\\left(\\boldsymbol{X}^T\\boldsymbol{X}\\boldsymbol{\\theta}-\\boldsymbol{X}^T\\boldsymbol{y}\\right)\n",
    "$$\n",
    "and\n",
    "$$\n",
    "\\nabla_{\\theta}C_{\\text{Ridge}} = \\frac{2}{n}\\left(\\boldsymbol{X}^T\\boldsymbol{X}\\boldsymbol{\\theta}-\\boldsymbol{X}^T\\boldsymbol{y}\\right) +2\\lambda\\boldsymbol{\\theta}\n",
    "$$"
   ]
  },
  {
   "cell_type": "markdown",
   "id": "d5dc7708",
   "metadata": {
    "editable": true
   },
   "source": [
    "## Exercise 3, using the analytical formulae for OLS and Ridge regression to find the optimal paramters $\\boldsymbol{\\theta}$"
   ]
  },
  {
   "cell_type": "code",
   "execution_count": 14,
   "id": "4c9c86ac",
   "metadata": {
    "collapsed": false,
    "editable": true
   },
   "outputs": [
    {
     "name": "stdout",
     "output_type": "stream",
     "text": [
      "Closed-form Ridge coefficients: [-0.93428685  5.85368135]\n",
      "Closed-form OLS coefficients: [-0.93811444  5.8797309 ]\n"
     ]
    }
   ],
   "source": [
    "# Set regularization parameter, either a single value or a vector of values\n",
    "# Note that lambda is a python keyword. The lambda keyword is used to create small, single-expression functions without a formal name. These are often called \"anonymous functions\" or \"lambda functions.\"\n",
    "lam = 1.5\n",
    "\n",
    "\n",
    "# Analytical form for OLS and Ridge solution: theta_Ridge = (X^T X + lambda * I)^{-1} X^T y and theta_OLS = (X^T X)^{-1} X^T y\n",
    "I = np.eye(n_features)\n",
    "theta_closed_formRidge = np.linalg.inv(X.T @ X + lam*I) @ X.T @ y\n",
    "theta_closed_formOLS = np.linalg.inv(X.T @ X) @ X.T @ y\n",
    "\n",
    "print(\"Closed-form Ridge coefficients:\", theta_closed_formRidge)\n",
    "print(\"Closed-form OLS coefficients:\", theta_closed_formOLS)"
   ]
  },
  {
   "cell_type": "markdown",
   "id": "eeae00fd",
   "metadata": {
    "editable": true
   },
   "source": [
    "This computes the Ridge and OLS regression coefficients directly. The identity\n",
    "matrix $I$ has the same size as $X^T X$. It adds $\\lambda$ to the diagonal of $X^T X$ for Ridge regression. We\n",
    "then invert this matrix and multiply by $X^T y$. The result\n",
    "for $\\boldsymbol{\\theta}$  is a NumPy array of shape (n$\\_$features,) containing the\n",
    "fitted parameters $\\boldsymbol{\\theta}$."
   ]
  },
  {
   "cell_type": "markdown",
   "id": "e1c215d5",
   "metadata": {
    "editable": true
   },
   "source": [
    "### 3a)\n",
    "\n",
    "Finalize, in the above code, the OLS and Ridge regression determination of the optimal parameters $\\boldsymbol{\\theta}$."
   ]
  },
  {
   "cell_type": "markdown",
   "id": "587dd3dc",
   "metadata": {
    "editable": true
   },
   "source": [
    "### 3b)\n",
    "\n",
    "Explore the results as function of different values of the hyperparameter $\\lambda$. See for example exercise 4 from week 36."
   ]
  },
  {
   "cell_type": "code",
   "execution_count": 19,
   "id": "02ea3879",
   "metadata": {},
   "outputs": [
    {
     "data": {
      "image/png": "[encoded data removed]",
      "text/plain": [
       "<Figure size 640x480 with 1 Axes>"
      ]
     },
     "metadata": {},
     "output_type": "display_data"
    }
   ],
   "source": [
    "import matplotlib.pyplot as plt\n",
    "\n",
    "lam_list = np.linspace(0.1,10,num=10)\n",
    "theta_closed_formRidge_list1 = []\n",
    "theta_closed_formRidge_list2 = []\n",
    "theta_closed_formOLS_list1 = theta_closed_formOLS[0]*np.ones(10)\n",
    "theta_closed_formOLS_list2 = theta_closed_formOLS[1]*np.ones(10)\n",
    "for lam in lam_list:\n",
    "    temp = np.linalg.inv(X.T @ X + lam*I) @ X.T @ y\n",
    "    theta_closed_formRidge_list1.append(temp[0])\n",
    "    theta_closed_formRidge_list2.append(temp[1])\n",
    "\n",
    "plt.plot(lam_list,theta_closed_formRidge_list1-theta_closed_formOLS_list1,label=\"Ridge, 1st parameter\")\n",
    "plt.plot(lam_list,theta_closed_formRidge_list2-theta_closed_formOLS_list2,label=\"Ridge, 2nd parameter\")\n",
    "plt.title(\"Difference between Ridge and OLS as a function of $\\\\lambda$\")\n",
    "plt.xlabel(\"$\\\\lambda$\")\n",
    "plt.legend()\n",
    "plt.show()\n"
   ]
  },
  {
   "cell_type": "markdown",
   "id": "bfa34697",
   "metadata": {
    "editable": true
   },
   "source": [
    "## Exercise 4, Implementing the simplest form for gradient descent\n",
    "\n",
    "Alternatively, we can fit the ridge regression model using gradient\n",
    "descent. This is useful to visualize the iterative convergence and is\n",
    "necessary if $n$ and $p$ are so large that the closed-form might be\n",
    "too slow or memory-intensive. We derive the gradients from the cost\n",
    "functions defined above. Use the gradients of the Ridge and OLS cost functions with respect to\n",
    "the parameters  $\\boldsymbol{\\theta}$ and set up (using the template below) your own gradient descent code for OLS and Ridge regression.\n",
    "\n",
    "Below is a template code for gradient descent implementation of ridge:"
   ]
  },
  {
   "cell_type": "code",
   "execution_count": 20,
   "id": "49245f55",
   "metadata": {
    "collapsed": false,
    "editable": true
   },
   "outputs": [
    {
     "name": "stdout",
     "output_type": "stream",
     "text": [
      "Gradient Descent OLS coefficients: [-0.93811444  5.8797309 ]\n",
      "Gradient Descent Ridge coefficients: [-0.82398204  5.12043695]\n"
     ]
    }
   ],
   "source": [
    "# Gradient descent parameters, learning rate eta first\n",
    "eta = 0.1\n",
    "# Then number of iterations\n",
    "num_iters = 1000\n",
    "\n",
    "# redefine lambda\n",
    "lam = 0.5\n",
    "\n",
    "# Initialize weights for gradient descent\n",
    "theta_gdOLS = np.zeros(n_features)\n",
    "theta_gdRidge = np.zeros(n_features)\n",
    "\n",
    "# we pre-calculate the matrix products that are independent of theta to save operations\n",
    "XTX = X.T @ X \n",
    "XTy = X.T @ y\n",
    "\n",
    "# Gradient descent loop\n",
    "for t in range(num_iters):\n",
    "    # Compute gradients for OSL and Ridge\n",
    "    grad_OLS = 2/len(y)*(XTX @ theta_gdOLS - XTy)\n",
    "    grad_Ridge = 2/len(y)*(XTX @ theta_gdRidge - XTy) + 2*lam*theta_gdRidge\n",
    "    # Update parameters theta\n",
    "    theta_gdOLS -= eta*grad_OLS\n",
    "    theta_gdRidge -= eta*grad_Ridge\n",
    "\n",
    "# After the loop, theta contains the fitted coefficients\n",
    "print(\"Gradient Descent OLS coefficients:\", theta_gdOLS)\n",
    "print(\"Gradient Descent Ridge coefficients:\", theta_gdRidge)"
   ]
  },
  {
   "cell_type": "markdown",
   "id": "f3f43f2c",
   "metadata": {
    "editable": true
   },
   "source": [
    "### 4a)\n",
    "\n",
    "Write first a gradient descent code for OLS only using the above template.\n",
    "Discuss the results as function of the learning rate parameters and the number of iterations"
   ]
  },
  {
   "cell_type": "code",
   "execution_count": null,
   "id": "a3e94a85",
   "metadata": {},
   "outputs": [
    {
     "name": "stdout",
     "output_type": "stream",
     "text": [
      "Gradient Descent OLS coefficients: [ 2.51254841e+11 -1.49874930e+12]\n",
      "Gradient Descent OLS coefficients: [-0.93811444  5.8797309 ]\n",
      "Gradient Descent OLS coefficients: [-0.72232816  4.42552614]\n",
      "Gradient Descent OLS coefficients: [-0.93822184  5.87971289]\n"
     ]
    }
   ],
   "source": [
    "# Gradient descent parameters, learning rate eta first\n",
    "eta = 0.3\n",
    "# Then number of iterations\n",
    "num_iters = 1000\n",
    "\n",
    "# redefine lambda\n",
    "lam = 0.5\n",
    "\n",
    "# Initialize weights for gradient descent\n",
    "theta_gdOLS = np.zeros(n_features)\n",
    "\n",
    "# we pre-calculate the matrix products that are independent of theta to save operations\n",
    "XTX = X.T @ X \n",
    "XTy = X.T @ y\n",
    "\n",
    "# Gradient descent loop\n",
    "for t in range(num_iters):\n",
    "    # Compute gradients for OSL\n",
    "    grad_OLS = 2/len(y)*(XTX @ theta_gdOLS - XTy)\n",
    "    # Update parameters theta\n",
    "    theta_gdOLS -= eta*grad_OLS\n",
    "print(\"Gradient Descent OLS coefficients:\", theta_gdOLS)\n",
    "\n",
    "# lower the learning rate and run it again\n",
    "eta = 0.2\n",
    "theta_gdOLS = np.zeros(n_features)\n",
    "# Gradient descent loop\n",
    "for t in range(num_iters):\n",
    "    # Compute gradients for OSL \n",
    "    grad_OLS = 2/len(y)*(XTX @ theta_gdOLS - XTy)\n",
    "    # Update parameters theta\n",
    "    theta_gdOLS -= eta*grad_OLS\n",
    "print(\"Gradient Descent OLS coefficients:\", theta_gdOLS)\n",
    "\n",
    "# lower the learning rate even further and run it again with fewer iterations\n",
    "eta = 0.01\n",
    "theta_gdOLS = np.zeros(n_features)\n",
    "num_iters = 20\n",
    "# Gradient descent loop\n",
    "for t in range(num_iters):\n",
    "    # Compute gradients for OSL\n",
    "    grad_OLS = 2/len(y)*(XTX @ theta_gdOLS - XTy)\n",
    "    # Update parameters theta\n",
    "    theta_gdOLS -= eta*grad_OLS\n",
    "print(\"Gradient Descent OLS coefficients:\", theta_gdOLS)\n",
    "\n",
    "# keep the same number of iterations, but increase the learning rate\n",
    "eta = 0.1\n",
    "theta_gdOLS = np.zeros(n_features)\n",
    "num_iters = 20\n",
    "# Gradient descent loop\n",
    "for t in range(num_iters):\n",
    "    # Compute gradients for OSL\n",
    "    grad_OLS = 2/len(y)*(XTX @ theta_gdOLS - XTy)\n",
    "    # Update parameters theta\n",
    "    theta_gdOLS -= eta*grad_OLS\n",
    "print(\"Gradient Descent OLS coefficients:\", theta_gdOLS)"
   ]
  },
  {
   "cell_type": "markdown",
   "id": "f22795dd",
   "metadata": {},
   "source": [
    "Keeping at 1000 iterations, we arrive at the same coefficients as for the analytical solution in exercise 3 when using a learning rate of 0.2.\n",
    "Increasing the learning rate to 0.3 leads it to diverge.\n",
    "Using only 20 iterations and a learning rate of 0.01, we arrive at parameters further from the analytical solution. But increasing the learning rate to 0.1 leads us to come close to the minimum with only 20 iterations."
   ]
  },
  {
   "cell_type": "markdown",
   "id": "9ba303be",
   "metadata": {
    "editable": true
   },
   "source": [
    "### 4b)\n",
    "\n",
    "Write then a similar code for Ridge regression using the above template.\n",
    "Try to add a stopping parameter as function of the number iterations and the difference between the new and old $\\theta$ values. How would you define a stopping criterion?"
   ]
  },
  {
   "cell_type": "code",
   "execution_count": 49,
   "id": "f4c70916",
   "metadata": {},
   "outputs": [
    {
     "name": "stdout",
     "output_type": "stream",
     "text": [
      "Gradient Descent Ridge coefficients: [-0.8239983   5.12043422]\n",
      "Iterations: 17\n"
     ]
    }
   ],
   "source": [
    "# Gradient descent parameters, learning rate eta first\n",
    "eta = 0.1\n",
    "# Then number of iterations\n",
    "num_iters = 1000\n",
    "\n",
    "# redefine lambda\n",
    "lam = 0.5\n",
    "\n",
    "# Initialize weights for gradient descent\n",
    "theta_gdRidge = np.zeros(n_features)\n",
    "theta_diff = np.ones(n_features)\n",
    "# we pre-calculate the matrix products that are independent of theta to save operations\n",
    "XTX = X.T @ X \n",
    "XTy = X.T @ y\n",
    "\n",
    "i=0\n",
    "# Gradient descent loop\n",
    "while (i<num_iters and (theta_diff.T @ theta_diff)**0.5 > (i+1)**(-4)):\n",
    "    # Compute gradients for Ridge\n",
    "    grad_Ridge = 2/len(y)*(XTX @ theta_gdRidge - XTy) + 2*lam*theta_gdRidge\n",
    "    # Update parameters theta\n",
    "    theta_diff = eta*grad_Ridge\n",
    "    theta_gdRidge -= eta*grad_Ridge\n",
    "    i+=1\n",
    "\n",
    "\n",
    "print(\"Gradient Descent Ridge coefficients:\", theta_gdRidge)\n",
    "print(f\"Iterations: {i}\")"
   ]
  },
  {
   "cell_type": "markdown",
   "id": "78362c6c",
   "metadata": {
    "editable": true
   },
   "source": [
    "## Exercise 5, Ridge regression and a new Synthetic Dataset\n",
    "\n",
    "We create a synthetic linear regression dataset with a sparse\n",
    "underlying relationship. This means we have many features but only a\n",
    "few of them actually contribute to the target. In our example, we’ll\n",
    "use 10 features with only 3 non-zero weights in the true model. This\n",
    "way, the target is generated as a linear combination of a few features\n",
    "(with known coefficients) plus some random noise. The steps we include are:\n",
    "\n",
    "Decide on the number of samples and features (e.g. 100 samples, 10 features).\n",
    "Define the **true** coefficient vector with mostly zeros (for sparsity). For example, we set $\\hat{\\boldsymbol{\\theta}} = [5.0, -3.0, 0.0, 0.0, 0.0, 0.0, 2.0, 0.0, 0.0, 0.0]$, meaning only features 0, 1, and 6 have a real effect on y.\n",
    "\n",
    "Then we sample feature values for $\\boldsymbol{X}$ randomly (e.g. from a normal distribution). We use a normal distribution so features are roughly centered around 0.\n",
    "Then we compute the target values $y$ using the linear combination $\\boldsymbol{X}\\hat{\\boldsymbol{\\theta}}$ and add some noise (to simulate measurement error or unexplained variance).\n",
    "\n",
    "Below is the code to generate the dataset:"
   ]
  },
  {
   "cell_type": "code",
   "execution_count": 51,
   "id": "8be1cebe",
   "metadata": {
    "collapsed": false,
    "editable": true
   },
   "outputs": [],
   "source": [
    "import numpy as np\n",
    "\n",
    "# Set random seed for reproducibility\n",
    "np.random.seed(0)\n",
    "\n",
    "# Define dataset size\n",
    "n_samples = 100\n",
    "n_features = 10\n",
    "\n",
    "# Define true coefficients (sparse linear relationship)\n",
    "theta_true = np.array([5.0, -3.0, 0.0, 0.0, 0.0, 0.0, 2.0, 0.0, 0.0, 0.0])\n",
    "\n",
    "# Generate feature matrix X (n_samples x n_features) with random values\n",
    "X = np.random.randn(n_samples, n_features)  # standard normal distribution\n",
    "\n",
    "# Generate target values y with a linear combination of X and theta_true, plus noise\n",
    "noise = 0.5 * np.random.randn(n_samples)    # Gaussian noise\n",
    "y = X @ theta_true + noise"
   ]
  },
  {
   "cell_type": "markdown",
   "id": "e2693666",
   "metadata": {
    "editable": true
   },
   "source": [
    "This code produces a dataset where only features 0, 1, and 6\n",
    "significantly influence $\\boldsymbol{y}$. The rest of the features have zero true\n",
    "coefficient. For example, feature 0 has\n",
    "a true weight of 5.0, feature 1 has -3.0, and feature 6 has 2.0, so\n",
    "the expected relationship is:"
   ]
  },
  {
   "cell_type": "markdown",
   "id": "bc954d12",
   "metadata": {
    "editable": true
   },
   "source": [
    "$$\n",
    "y \\approx 5 \\times x_0 \\;-\\; 3 \\times x_1 \\;+\\; 2 \\times x_6 \\;+\\; \\text{noise}.\n",
    "$$"
   ]
  },
  {
   "cell_type": "markdown",
   "id": "6534b610",
   "metadata": {
    "editable": true
   },
   "source": [
    "You can remove the noise if you wish to. \n",
    "\n",
    "Try to fit the above data set using OLS and Ridge regression with the analytical expressions and your own gradient descent codes.\n",
    "\n",
    "If everything worked correctly, the learned coefficients should be\n",
    "close to the true values [5.0, -3.0, 0.0, …, 2.0, …] that we used to\n",
    "generate the data. Keep in mind that due to regularization and noise,\n",
    "the learned values will not exactly equal the true ones, but they\n",
    "should be in the same ballpark.  Which method (OLS or Ridge) gives the best results?"
   ]
  },
  {
   "cell_type": "code",
   "execution_count": 56,
   "id": "9f5a4799",
   "metadata": {},
   "outputs": [
    {
     "name": "stdout",
     "output_type": "stream",
     "text": [
      "Closed-form Ridge coefficients: [ 4.98443594e+00 -2.98320678e+00 -1.64449273e-02  1.48072693e-01\n",
      " -7.62642078e-02 -4.69855697e-02  2.04201073e+00  3.41643021e-03\n",
      "  3.63778203e-02 -5.13534886e-02]\n",
      "Closed-form OLS coefficients: [ 5.00905318e+00 -3.00383337e+00 -1.62718294e-02  1.44819819e-01\n",
      " -7.16006510e-02 -4.29656382e-02  2.05558117e+00  1.97583716e-03\n",
      "  4.11922237e-02 -5.10225177e-02]\n"
     ]
    }
   ],
   "source": [
    "lam = 0.5\n",
    "\n",
    "# Analytical form for OLS and Ridge solution: theta_Ridge = (X^T X + lambda * I)^{-1} X^T y and theta_OLS = (X^T X)^{-1} X^T y\n",
    "I = np.eye(n_features)\n",
    "theta_closed_formRidge = np.linalg.inv(X.T @ X + lam*I) @ X.T @ y\n",
    "theta_closed_formOLS = np.linalg.inv(X.T @ X) @ X.T @ y\n",
    "\n",
    "print(\"Closed-form Ridge coefficients:\", theta_closed_formRidge)\n",
    "print(\"Closed-form OLS coefficients:\", theta_closed_formOLS)"
   ]
  },
  {
   "cell_type": "markdown",
   "id": "c616ce7a",
   "metadata": {},
   "source": [
    "In the case of the analytical expressions, OLS worked slightly better than Ridge."
   ]
  },
  {
   "cell_type": "code",
   "execution_count": 61,
   "id": "7ff443ee",
   "metadata": {},
   "outputs": [
    {
     "name": "stdout",
     "output_type": "stream",
     "text": [
      "Gradient Descent OLS coefficients: [ 5.00905318e+00 -3.00383337e+00 -1.62718294e-02  1.44819819e-01\n",
      " -7.16006510e-02 -4.29656382e-02  2.05558117e+00  1.97583716e-03\n",
      "  4.11922237e-02 -5.10225177e-02]\n",
      "Gradient Descent Ridge coefficients: [ 3.37564305 -1.79851539 -0.02511502  0.24957072 -0.23608071 -0.19927399\n",
      "  1.25232571  0.07773485 -0.17629863 -0.0622635 ]\n"
     ]
    }
   ],
   "source": [
    "# Gradient descent parameters, learning rate eta first\n",
    "eta = 0.1\n",
    "# Then number of iterations\n",
    "num_iters = 1000\n",
    "\n",
    "# redefine lambda\n",
    "lam = 0.5\n",
    "\n",
    "# Initialize weights for gradient descent\n",
    "theta_gdOLS = np.zeros(n_features)\n",
    "theta_gdRidge = np.zeros(n_features)\n",
    "\n",
    "# we pre-calculate the matrix products that are independent of theta to save operations\n",
    "XTX = X.T @ X \n",
    "XTy = X.T @ y\n",
    "\n",
    "# Gradient descent loop\n",
    "for t in range(num_iters):\n",
    "    # Compute gradients for OSL and Ridge\n",
    "    grad_OLS = 2/len(y)*(XTX @ theta_gdOLS - XTy)\n",
    "    grad_Ridge = 2/len(y)*(XTX @ theta_gdRidge - XTy) + 2*lam*theta_gdRidge\n",
    "    # Update parameters theta\n",
    "    theta_gdOLS -= eta*grad_OLS\n",
    "    theta_gdRidge -= eta*grad_Ridge\n",
    "\n",
    "# After the loop, theta contains the fitted coefficients\n",
    "print(\"Gradient Descent OLS coefficients:\", theta_gdOLS)\n",
    "print(\"Gradient Descent Ridge coefficients:\", theta_gdRidge)"
   ]
  },
  {
   "cell_type": "markdown",
   "id": "6a0edbb6",
   "metadata": {},
   "source": [
    "In the case of gradient descent, we see that Ridge regression is noticably worse than OLS."
   ]
  },
  {
   "cell_type": "code",
   "execution_count": null,
   "id": "399e05d9",
   "metadata": {},
   "outputs": [],
   "source": []
  }
 ],
 "metadata": {
  "kernelspec": {
   "display_name": ".venv",
   "language": "python",
   "name": "python3"
  },
  "language_info": {
   "codemirror_mode": {
    "name": "ipython",
    "version": 3
   },
   "file_extension": ".py",
   "mimetype": "text/x-python",
   "name": "python",
   "nbconvert_exporter": "python",
   "pygments_lexer": "ipython3",
   "version": "3.13.7"
  }
 },
 "nbformat": 4,
 "nbformat_minor": 5
}
