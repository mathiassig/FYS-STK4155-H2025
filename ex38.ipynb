{
 "cells": [
  {
   "cell_type": "markdown",
   "id": "1da77599",
   "metadata": {},
   "source": [
    "# Exercises week 38\n",
    "\n",
    "## September 15-19\n",
    "\n",
    "## Resampling and the Bias-Variance Trade-off\n"
   ]
  },
  {
   "cell_type": "markdown",
   "id": "e9f27b0e",
   "metadata": {},
   "source": [
    "### Learning goals\n",
    "\n",
    "After completing these exercises, you will know how to\n",
    "\n",
    "- Derive expectation and variances values related to linear regression\n",
    "- Compute expectation and variances values related to linear regression\n",
    "- Compute and evaluate the trade-off between bias and variance of a model\n",
    "\n",
    "### Deliverables\n",
    "\n",
    "Complete the following exercises while working in a jupyter notebook. Then, in canvas, include\n",
    "\n",
    "- The jupyter notebook with the exercises completed\n",
    "- An exported PDF of the notebook (https://code.visualstudio.com/docs/datascience/jupyter-notebooks#_export-your-jupyter-notebook)\n"
   ]
  },
  {
   "cell_type": "markdown",
   "id": "984af8e3",
   "metadata": {},
   "source": [
    "## Use the books!\n",
    "\n",
    "This week deals with various mean values and variances in linear regression methods (here it may be useful to look up chapter 3, equation (3.8) of [Trevor Hastie, Robert Tibshirani, Jerome H. Friedman, The Elements of Statistical Learning, Springer](https://www.springer.com/gp/book/9780387848570)).\n",
    "\n",
    "For more discussions on Ridge regression and calculation of expectation values, [Wessel van Wieringen's](https://arxiv.org/abs/1509.09169) article is highly recommended.\n",
    "\n",
    "The exercises this week are also a part of project 1 and can be reused in the theory part of the project.\n",
    "\n",
    "### Definitions\n",
    "\n",
    "We assume that there exists a continuous function $f(\\boldsymbol{x})$ and a normal distributed error $\\boldsymbol{\\varepsilon}\\sim N(0, \\sigma^2)$ which describes our data\n"
   ]
  },
  {
   "cell_type": "markdown",
   "id": "c16f7d0e",
   "metadata": {},
   "source": [
    "$$\n",
    "\\boldsymbol{y} = f(\\boldsymbol{x})+\\boldsymbol{\\varepsilon}\n",
    "$$\n"
   ]
  },
  {
   "cell_type": "markdown",
   "id": "9fcf981a",
   "metadata": {
    "vscode": {
     "languageId": "plaintext"
    }
   },
   "source": [
    "We further assume that this continous function can be modeled with a linear model $\\mathbf{\\tilde{y}}$ of some features $\\mathbf{X}$.\n"
   ]
  },
  {
   "cell_type": "markdown",
   "id": "d4189366",
   "metadata": {},
   "source": [
    "$$\n",
    "\\boldsymbol{y} = \\boldsymbol{\\tilde{y}} + \\boldsymbol{\\varepsilon} = \\boldsymbol{X}\\boldsymbol{\\beta} +\\boldsymbol{\\varepsilon}\n",
    "$$\n"
   ]
  },
  {
   "cell_type": "markdown",
   "id": "f4fca21b",
   "metadata": {},
   "source": [
    "We therefore get that our data $\\boldsymbol{y}$ has an expectation value $\\boldsymbol{X}\\boldsymbol{\\beta}$ and variance $\\sigma^2$, that is $\\boldsymbol{y}$ follows a normal distribution with mean value $\\boldsymbol{X}\\boldsymbol{\\beta}$ and variance $\\sigma^2$.\n"
   ]
  },
  {
   "cell_type": "markdown",
   "id": "5de0c7e6",
   "metadata": {},
   "source": [
    "## Exercise 1: Expectation values for ordinary least squares expressions\n"
   ]
  },
  {
   "cell_type": "markdown",
   "id": "d878c699",
   "metadata": {},
   "source": [
    "**a)** With the expressions for the optimal parameters $\\boldsymbol{\\hat{\\beta}_{OLS}}$ show that\n"
   ]
  },
  {
   "cell_type": "markdown",
   "id": "08b7007d",
   "metadata": {},
   "source": [
    "$$\n",
    "\\mathbb{E}(\\boldsymbol{\\hat{\\beta}_{OLS}}) = \\boldsymbol{\\beta}.\n",
    "$$\n"
   ]
  },
  {
   "cell_type": "markdown",
   "id": "1966b534",
   "metadata": {},
   "source": [
    "$$\n",
    "\\boldsymbol{\\hat{\\beta}_{OLS}} = (\\boldsymbol{X}^T\\boldsymbol{X})^{-1}\\boldsymbol{X}\\boldsymbol{y},\\, \\boldsymbol{y}=\\boldsymbol{X}\\boldsymbol{\\beta} + \\boldsymbol{\\epsilon}\n",
    "$$\n",
    "If we regard the design matrix $\\boldsymbol{X}$ as non-stochastic and $\\boldsymbol{\\epsilon}\\sim N(0,\\sigma^2)$, then\n",
    "$$\n",
    "\\Rightarrow \\mathbb{E}(\\boldsymbol{\\hat{\\beta}_{OLS}}) = \\mathbb{E}[(\\boldsymbol{X}^T\\boldsymbol{X})^{-1}\\boldsymbol{X}^T(\\boldsymbol{X}\\boldsymbol{\\beta}+\\boldsymbol{\\epsilon})]\n",
    "$$\n",
    "$$\n",
    "= (\\boldsymbol{X}^T\\boldsymbol{X})^{-1}(\\boldsymbol{X}^T\\boldsymbol{X})(\\mathbb{E}[\\boldsymbol{\\beta}]+\\boldsymbol{X}^{-1}\\mathbb{E}[\\boldsymbol{\\epsilon}])=I\\mathbb{E}[\\boldsymbol{\\beta}]=\\boldsymbol{\\beta}\n",
    "$$"
   ]
  },
  {
   "cell_type": "markdown",
   "id": "46e93394",
   "metadata": {},
   "source": [
    "**b)** Show that the variance of $\\boldsymbol{\\hat{\\beta}_{OLS}}$ is\n"
   ]
  },
  {
   "cell_type": "markdown",
   "id": "be1b65be",
   "metadata": {},
   "source": [
    "$$\n",
    "\\mathbf{Var}(\\boldsymbol{\\hat{\\beta}_{OLS}}) = \\sigma^2 \\, (\\mathbf{X}^{T} \\mathbf{X})^{-1}.\n",
    "$$\n"
   ]
  },
  {
   "cell_type": "markdown",
   "id": "31cc8223",
   "metadata": {},
   "source": [
    "$$\n",
    "\\mathbf{Var}(\\boldsymbol{\\hat{\\beta}_{OLS}}) = \\mathbb{E}[(\\boldsymbol{\\beta}_{OLS}-\\mathbb{E}[\\boldsymbol{\\beta}_{OLS}])^2]\n",
    "$$\n",
    "$$\n",
    "=\\mathbb{E}[((\\boldsymbol{X}^T\\boldsymbol{X})^{-1}(\\boldsymbol{X}^T\\boldsymbol{X})(\\boldsymbol{\\beta}-\\boldsymbol{\\beta}+\\boldsymbol{X}^{-1}\\boldsymbol{\\epsilon}))^2]\n",
    "$$\n",
    "Using that $\\mathbb{E}[\\boldsymbol{\\epsilon}]=0$, we can write $\\boldsymbol{\\epsilon}=\\boldsymbol{\\epsilon}-\\mathbb{E}[\\boldsymbol{\\epsilon}]$\n",
    "$$\n",
    "= \\mathbb{E}[\\boldsymbol{X}^{-1}(\\boldsymbol{\\epsilon}-\\mathbb{E}[\\boldsymbol{\\epsilon}])^2]=\\mathbf{Var}[\\boldsymbol{X}^{-1}\\boldsymbol{\\epsilon}]\n",
    "$$\n",
    "$$\n",
    "=\\boldsymbol{X}^{-1}\\mathbf{Var}[\\boldsymbol{\\epsilon}](\\boldsymbol{X}^T)^{-1} = \\sigma^2(\\boldsymbol{X}^T\\boldsymbol{X})^{-1}\n",
    "$$"
   ]
  },
  {
   "cell_type": "markdown",
   "id": "d2143684",
   "metadata": {},
   "source": [
    "We can use the last expression when we define a [confidence interval](https://en.wikipedia.org/wiki/Confidence_interval) for the parameters $\\boldsymbol{\\hat{\\beta}_{OLS}}$.\n",
    "A given parameter ${\\boldsymbol{\\hat{\\beta}_{OLS}}}_j$ is given by the diagonal matrix element of the above matrix.\n"
   ]
  },
  {
   "cell_type": "markdown",
   "id": "f5c2dc22",
   "metadata": {},
   "source": [
    "## Exercise 2: Expectation values for Ridge regression\n"
   ]
  },
  {
   "cell_type": "markdown",
   "id": "3893e3e7",
   "metadata": {},
   "source": [
    "**a)** With the expressions for the optimal parameters $\\boldsymbol{\\hat{\\beta}_{Ridge}}$ show that\n"
   ]
  },
  {
   "cell_type": "markdown",
   "id": "79dc571f",
   "metadata": {},
   "source": [
    "$$\n",
    "\\mathbb{E} \\big[ \\hat{\\boldsymbol{\\beta}}^{\\mathrm{Ridge}} \\big]=(\\mathbf{X}^{T} \\mathbf{X} + \\lambda \\mathbf{I}_{pp})^{-1} (\\mathbf{X}^{\\top} \\mathbf{X})\\boldsymbol{\\beta}\n",
    "$$\n"
   ]
  },
  {
   "cell_type": "markdown",
   "id": "028209a1",
   "metadata": {},
   "source": [
    "We see that $\\mathbb{E} \\big[ \\hat{\\boldsymbol{\\beta}}^{\\mathrm{Ridge}} \\big] \\not= \\mathbb{E} \\big[\\hat{\\boldsymbol{\\beta}}^{\\mathrm{OLS}}\\big ]$ for any $\\lambda > 0$.\n"
   ]
  },
  {
   "cell_type": "markdown",
   "id": "83fed7cf",
   "metadata": {},
   "source": [
    "$$\n",
    "\\mathbb{E}[\\boldsymbol{\\beta}_{\\text{Ridge}}] = \\mathbb{E}[(\\boldsymbol{X}^T\\boldsymbol{X}+\\lambda\\boldsymbol{I})^{-1}\\boldsymbol{X}^T\\boldsymbol{X}(\\boldsymbol{\\beta}+\\boldsymbol{X}^{-1}\\boldsymbol{\\epsilon})]\n",
    "$$\n"
   ]
  },
  {
   "cell_type": "markdown",
   "id": "65f6f914",
   "metadata": {},
   "source": [
    "**b)** Why do we say that Ridge regression gives a biased estimate? Is this a problem?\n"
   ]
  },
  {
   "cell_type": "markdown",
   "id": "e2a94c9a",
   "metadata": {},
   "source": [
    "By introducing the hyperparameter $\\lambda$, the model predictions will deviate from the target training data by penalizing large coefficients in $\\beta$. This bias can lead to underfitting, so that the model fails to capture some complex relations in the training data. But on the other hand, Ridge regression reduces overfitting (complex model fit well to training data but with limited ability to make accurate predictions)."
   ]
  },
  {
   "cell_type": "markdown",
   "id": "b4e721fc",
   "metadata": {},
   "source": [
    "**c)** Show that the variance is\n"
   ]
  },
  {
   "cell_type": "markdown",
   "id": "090eb1e1",
   "metadata": {},
   "source": [
    "$$\n",
    "\\mathbf{Var}[\\hat{\\boldsymbol{\\beta}}^{\\mathrm{Ridge}}]=\\sigma^2[  \\mathbf{X}^{T} \\mathbf{X} + \\lambda \\mathbf{I} ]^{-1}  \\mathbf{X}^{T}\\mathbf{X} \\{ [  \\mathbf{X}^{\\top} \\mathbf{X} + \\lambda \\mathbf{I} ]^{-1}\\}^{T}\n",
    "$$\n"
   ]
  },
  {
   "cell_type": "markdown",
   "id": "d0f977b7",
   "metadata": {},
   "source": [
    "$$\n",
    "\\mathbf{Var}[\\boldsymbol{\\beta}_{\\text{Ridge}}] = \\mathbf{Var}[(\\boldsymbol{X}^T\\boldsymbol{X}+\\lambda \\boldsymbol{I})^{-1}\\boldsymbol{X}^T(\\boldsymbol{X}\\boldsymbol{\\beta}+\\boldsymbol{\\epsilon})]\n",
    "$$\n",
    "\n",
    "Define $W_{\\lambda}=(\\boldsymbol{X}^T\\boldsymbol{X}+\\lambda\\boldsymbol{I})^{-1}\\boldsymbol{X}^T$\n",
    "$$\n",
    "\\Rightarrow \\mathbf{Var}[\\boldsymbol{\\beta}_{\\text{Ridge}}] = W_{\\lambda} \\mathbf{Var}[\\boldsymbol{X}\\boldsymbol{\\beta}+\\boldsymbol{\\epsilon}]W_{\\lambda}^T\n",
    "$$\n",
    "$$\n",
    "\\mathbf{Var}[\\boldsymbol{X}\\boldsymbol{\\beta}+\\boldsymbol{\\epsilon}] = \\mathbb{E}[(\\boldsymbol{X}\\boldsymbol{\\beta}-\\boldsymbol{X}\\mathbb{E}[\\boldsymbol{\\beta}]+\\boldsymbol{\\epsilon}-\\mathbb{E}[\\epsilon])^2]=\\mathbf{Var}[\\boldsymbol{\\epsilon}]=\\sigma^2\n",
    "$$\n",
    "Inserting this into the equation above yields\n",
    "$$\n",
    "\\mathbf{Var}[\\boldsymbol{\\beta}_{\\text{Ridge}}] = \\sigma^2(\\boldsymbol{X}^T\\boldsymbol{X}+\\lambda \\boldsymbol{I})^{-1}\\boldsymbol{X}^T\\boldsymbol{X}\\{(\\boldsymbol{X}^T\\boldsymbol{X}+\\lambda \\boldsymbol{I})^{-1}\\}^T\n",
    "$$"
   ]
  },
  {
   "cell_type": "markdown",
   "id": "6b8e8697",
   "metadata": {},
   "source": [
    "We see that if the parameter $\\lambda$ goes to infinity then the variance of the Ridge parameters $\\boldsymbol{\\beta}$ goes to zero.\n"
   ]
  },
  {
   "cell_type": "markdown",
   "id": "74bc300b",
   "metadata": {},
   "source": [
    "## Exercise 3: Deriving the expression for the Bias-Variance Trade-off\n"
   ]
  },
  {
   "cell_type": "markdown",
   "id": "eeb86010",
   "metadata": {},
   "source": [
    "The aim of this exercise is to derive the equations for the bias-variance tradeoff to be used in project 1.\n",
    "\n",
    "The parameters $\\boldsymbol{\\hat{\\beta}_{OLS}}$ are found by optimizing the mean squared error via the so-called cost function\n"
   ]
  },
  {
   "cell_type": "markdown",
   "id": "522a0d1d",
   "metadata": {},
   "source": [
    "$$\n",
    "C(\\boldsymbol{X},\\boldsymbol{\\beta}) =\\frac{1}{n}\\sum_{i=0}^{n-1}(y_i-\\tilde{y}_i)^2=\\mathbb{E}\\left[(\\boldsymbol{y}-\\boldsymbol{\\tilde{y}})^2\\right]\n",
    "$$\n"
   ]
  },
  {
   "cell_type": "markdown",
   "id": "831db06c",
   "metadata": {},
   "source": [
    "**a)** Show that you can rewrite this into an expression which contains\n",
    "\n",
    "- the variance of the model (the variance term)\n",
    "- the expected deviation of the mean of the model from the true data (the bias term)\n",
    "- the variance of the noise\n",
    "\n",
    "In other words, show that:\n"
   ]
  },
  {
   "cell_type": "markdown",
   "id": "8cc52b3c",
   "metadata": {},
   "source": [
    "$$\n",
    "\\mathbb{E}\\left[(\\boldsymbol{y}-\\boldsymbol{\\tilde{y}})^2\\right]=\\mathrm{Bias}[\\tilde{y}]+\\mathrm{var}[\\tilde{y}]+\\sigma^2,\n",
    "$$\n"
   ]
  },
  {
   "cell_type": "markdown",
   "id": "8cb50416",
   "metadata": {},
   "source": [
    "with\n"
   ]
  },
  {
   "cell_type": "markdown",
   "id": "e49bdbb4",
   "metadata": {},
   "source": [
    "$$\n",
    "\\mathrm{Bias}[\\tilde{y}]=\\mathbb{E}\\left[\\left(\\boldsymbol{y}-\\mathbb{E}\\left[\\boldsymbol{\\tilde{y}}\\right]\\right)^2\\right],\n",
    "$$\n"
   ]
  },
  {
   "cell_type": "markdown",
   "id": "eca5554a",
   "metadata": {},
   "source": [
    "and\n"
   ]
  },
  {
   "cell_type": "markdown",
   "id": "b1054343",
   "metadata": {},
   "source": [
    "$$\n",
    "\\mathrm{var}[\\tilde{y}]=\\mathbb{E}\\left[\\left(\\tilde{\\boldsymbol{y}}-\\mathbb{E}\\left[\\boldsymbol{\\tilde{y}}\\right]\\right)^2\\right]=\\frac{1}{n}\\sum_i(\\tilde{y}_i-\\mathbb{E}\\left[\\boldsymbol{\\tilde{y}}\\right])^2.\n",
    "$$\n"
   ]
  },
  {
   "cell_type": "markdown",
   "id": "b938725f",
   "metadata": {},
   "source": [
    "$$\n",
    "\\mathbb{E}\\left[(\\boldsymbol{y}-\\boldsymbol{\\tilde{y}})^2\\right] = \\mathbb{E}[(\\boldsymbol{f}+\\boldsymbol{\\epsilon}-\\boldsymbol{\\tilde{y}}+\\mathbb{E}[\\boldsymbol{\\tilde{y}}]-\\mathbb{E}[\\boldsymbol{\\boldsymbol{\\tilde{y}}}])^2]\n",
    "$$\n",
    "$$\n",
    " = \\mathbb{E}[\\{(\\boldsymbol{f}+\\boldsymbol{\\epsilon}-\\mathbb{E}[\\boldsymbol{\\boldsymbol{\\tilde{y}}}])-(\\boldsymbol{\\tilde{y}}-\\mathbb{E}[\\boldsymbol{\\tilde{y}}])\\}^2] \n",
    "$$\n",
    "$$\n",
    "=\\mathbb{E}[(\\boldsymbol{f}+\\boldsymbol{\\epsilon}-\\mathbb{E}[\\boldsymbol{\\boldsymbol{\\tilde{y}}}])^2]+\\mathbb{E}[(\\boldsymbol{\\tilde{y}}-\\mathbb{E}[\\boldsymbol{\\tilde{y}}])^2]\n",
    "$$\n",
    "\n",
    "Remember that $\\mathbb{E}[\\boldsymbol{\\epsilon}]=0$\n",
    "$$\n",
    "= \\mathbb{E}[(\\boldsymbol{f}-\\mathbb{E}[\\boldsymbol{\\boldsymbol{\\tilde{y}}}])^2]+\\mathbb{E}[(\\boldsymbol{\\tilde{y}}-\\mathbb{E}[\\boldsymbol{\\tilde{y}}])^2]+\\mathbb{E}[(\\boldsymbol{\\epsilon}-\\mathbb{E}[\\boldsymbol{\\epsilon}])^2]\n",
    "$$\n",
    "$$\n",
    " = \\mathrm{Bias}[\\tilde{y}]+\\mathrm{var}[\\tilde{y}]+\\sigma^2\n",
    "$$"
   ]
  },
  {
   "cell_type": "markdown",
   "id": "70fbfcd7",
   "metadata": {},
   "source": [
    "**b)** Explain what the terms mean and discuss their interpretations.\n"
   ]
  },
  {
   "cell_type": "markdown",
   "id": "3da52dd5",
   "metadata": {},
   "source": [
    "The bias tells us how much the mean of our model prediction differs from the target value. The variance tells us how much spread there is in the distribution of the model predictions. The term $\\sigma^2$ constitutes the error from stochastic noise. The bias and the variance depend on our model. Models with very low bias will typically have a larger variance and vice versa. We will typically not be able to eliminate the stochastic error from the term $\\sigma^2$."
   ]
  },
  {
   "cell_type": "markdown",
   "id": "b8f8b9d1",
   "metadata": {},
   "source": [
    "## Exercise 4: Computing the Bias and Variance\n"
   ]
  },
  {
   "cell_type": "markdown",
   "id": "9e012430",
   "metadata": {},
   "source": [
    "Before you compute the bias and variance of a real model for different complexities, let's for now assume that you have sampled predictions and targets for a single model complexity using bootstrap resampling.\n",
    "\n",
    "**a)** Using the expression above, compute the mean squared error, bias and variance of the given data. Check that the sum of the bias and variance correctly gives (approximately) the mean squared error.\n"
   ]
  },
  {
   "cell_type": "code",
   "execution_count": 7,
   "id": "b5bf581c",
   "metadata": {},
   "outputs": [
    {
     "name": "stdout",
     "output_type": "stream",
     "text": [
      "MSE: 220.5776011663756\n",
      "Bias: 212.23427294392394\n",
      "Variance: 8.33517600523219\n",
      "Sum: 220.56944894915614\n"
     ]
    }
   ],
   "source": [
    "import numpy as np\n",
    "\n",
    "n = 100\n",
    "bootstraps = 1000\n",
    "\n",
    "predictions = np.random.rand(bootstraps, n) * 10 + 10\n",
    "targets = np.random.rand(1, n)\n",
    "\n",
    "mse = ((targets-predictions)**2).mean() # mean of squared difference betweem target and prediction\n",
    "bias = ((targets-predictions.mean())**2).mean() # mean of squared difference betweem target and mean prediction\n",
    "variance = ((predictions-predictions.mean())**2).mean() # mean of squared difference betweem prediction and mean prediction\n",
    "\n",
    "print(f\"MSE: {mse}\")\n",
    "print(f\"Bias: {bias}\")\n",
    "print(f\"Variance: {variance}\")\n",
    "print(f\"Sum: {bias+variance}\")"
   ]
  },
  {
   "cell_type": "markdown",
   "id": "7b1dc621",
   "metadata": {},
   "source": [
    "**b)** Change the prediction values in some way to increase the bias while decreasing the variance.\n"
   ]
  },
  {
   "cell_type": "code",
   "execution_count": 2,
   "id": "b40d1321",
   "metadata": {},
   "outputs": [
    {
     "name": "stdout",
     "output_type": "stream",
     "text": [
      "MSE: 557.8351942380731\n",
      "Bias: 552.4858674576177\n",
      "Variance: 5.348969979641782\n",
      "Sum: 557.8348374372595\n"
     ]
    }
   ],
   "source": [
    "predictions = np.random.rand(bootstraps, n) * 8 + 20\n",
    "targets = np.random.rand(1, n)\n",
    "\n",
    "mse = ((targets-predictions)**2).mean() # mean of squared difference betweem target and prediction\n",
    "bias = ((targets-predictions.mean())**2).mean() # mean of squared difference betweem target and mean prediction\n",
    "variance = ((predictions-predictions.mean())**2).mean() # mean of squared difference betweem prediction and mean prediction\n",
    "\n",
    "print(f\"MSE: {mse}\")\n",
    "print(f\"Bias: {bias}\")\n",
    "print(f\"Variance: {variance}\")\n",
    "print(f\"Sum: {bias+variance}\")"
   ]
  },
  {
   "cell_type": "markdown",
   "id": "224a4970",
   "metadata": {},
   "source": [
    "**c)** Change the prediction values in some way to increase the variance while decreasing the bias."
   ]
  },
  {
   "cell_type": "code",
   "execution_count": 4,
   "id": "0fbec54b",
   "metadata": {},
   "outputs": [
    {
     "name": "stdout",
     "output_type": "stream",
     "text": [
      "MSE: 69.06583829468376\n",
      "Bias: 57.05826525759672\n",
      "Variance: 12.021603849842954\n",
      "Sum: 69.07986910743968\n"
     ]
    }
   ],
   "source": [
    "predictions = np.random.rand(bootstraps, n) * 12 + 2\n",
    "targets = np.random.rand(1, n)\n",
    "\n",
    "mse = ((targets-predictions)**2).mean() # mean of squared difference betweem target and prediction\n",
    "bias = ((targets-predictions.mean())**2).mean() # mean of squared difference betweem target and mean prediction\n",
    "variance = ((predictions-predictions.mean())**2).mean() # mean of squared difference betweem prediction and mean prediction\n",
    "\n",
    "print(f\"MSE: {mse}\")\n",
    "print(f\"Bias: {bias}\")\n",
    "print(f\"Variance: {variance}\")\n",
    "print(f\"Sum: {bias+variance}\")"
   ]
  },
  {
   "cell_type": "markdown",
   "id": "8da63362",
   "metadata": {},
   "source": [
    "**d)** Perform a bias-variance analysis of a polynomial OLS model fit to a one-dimensional function by computing and plotting the bias and variances values as a function of the polynomial degree of your model.\n"
   ]
  },
  {
   "cell_type": "code",
   "execution_count": 4,
   "id": "dd5855e4",
   "metadata": {},
   "outputs": [],
   "source": [
    "import numpy as np\n",
    "import matplotlib.pyplot as plt\n",
    "from sklearn.preprocessing import (\n",
    "    PolynomialFeatures,\n",
    ")  # use the fit_transform method of the created object!\n",
    "from sklearn.linear_model import LinearRegression\n",
    "from sklearn.metrics import mean_squared_error\n",
    "from sklearn.model_selection import train_test_split\n",
    "from sklearn.utils import resample"
   ]
  },
  {
   "cell_type": "code",
   "execution_count": 8,
   "id": "7e35fa37",
   "metadata": {},
   "outputs": [],
   "source": [
    "n = 100\n",
    "bootstraps = 1000\n",
    "ps = [1,2,3,4,5,6,7,8,9,10,11,12,13,14,15]#,16,17,18,19,20]\n",
    "\n",
    "x = np.linspace(-3, 3, n) # n*1\n",
    "y = np.exp(-(x**2)) + 1.5 * np.exp(-((x - 2) ** 2)) + np.random.normal(0, 0.1) # n*1\n",
    "\n",
    "biases = []\n",
    "variances = []\n",
    "mses = []\n",
    "\n",
    "for p in ps:\n",
    "\n",
    "    X = PolynomialFeatures(p).fit_transform(x.reshape(n,1)) # make feature matrix from data x, p features, X is n*p\n",
    "    X_train, X_test, y_train, y_test = train_test_split(X,y,test_size=0.2) # 80% training data\n",
    "    targets,predictions = np.zeros(len(y_test)),np.zeros((bootstraps,len(y_test))) \n",
    "    for b in range(bootstraps):\n",
    "        X_train_re, y_train_re = resample(X_train,y_train)\n",
    "        # fit your model on the sampled data\n",
    "        linreg = LinearRegression()\n",
    "        linreg.fit(X_train_re,y_train_re)\n",
    "        # make predictions on the test data\n",
    "        predictions[b, :] = linreg.predict(X_test)\n",
    "    targets[:] = y_test # target data are independent of model\n",
    "    mse = ((targets-predictions)**2).mean() # mean of squared difference betweem target and prediction\n",
    "    bias = ((targets-predictions.mean())**2).mean() # mean of squared difference betweem target and mean prediction\n",
    "    variance = ((predictions-predictions.mean())**2).mean() # mean of squared difference betweem prediction and mean prediction\n",
    "    biases.append(bias)\n",
    "    variances.append(variance)\n",
    "    mses.append(mse)\n",
    "    #mses.append(bias+variance)"
   ]
  },
  {
   "cell_type": "code",
   "execution_count": null,
   "id": "c2f9756d",
   "metadata": {},
   "outputs": [],
   "source": []
  },
  {
   "cell_type": "code",
   "execution_count": 9,
   "id": "fe074ca5",
   "metadata": {},
   "outputs": [
    {
     "data": {
      "image/png": "[encoded data removed]",
      "text/plain": [
       "<Figure size 640x480 with 1 Axes>"
      ]
     },
     "metadata": {},
     "output_type": "display_data"
    }
   ],
   "source": [
    "plt.plot(ps,biases,label=\"Bias\")\n",
    "plt.plot(ps,variances,label=\"Variance\")\n",
    "plt.plot(ps,mses,label=\"MSE\")\n",
    "plt.xlabel(\"Polynomial degree\")\n",
    "plt.title(\"Errors as a function of polynomial degree\")\n",
    "plt.legend()\n",
    "plt.show()\n"
   ]
  },
  {
   "cell_type": "markdown",
   "id": "b507ffcc",
   "metadata": {},
   "source": [
    "This is wrong, MSE cannot be smaller than the bias or the variance. I don't know how to fix this."
   ]
  },
  {
   "cell_type": "markdown",
   "id": "253b8461",
   "metadata": {},
   "source": [
    "**e)** Discuss the bias-variance trade-off as function of your model complexity (the degree of the polynomial).\n",
    "\n",
    "**f)** Compute and discuss the bias and variance as function of the number of data points (choose a suitable polynomial degree to show something interesting).\n"
   ]
  },
  {
   "cell_type": "markdown",
   "id": "46250fbc",
   "metadata": {},
   "source": [
    "## Exercise 5: Interpretation of scaling and metrics\n"
   ]
  },
  {
   "cell_type": "markdown",
   "id": "5af53055",
   "metadata": {},
   "source": [
    "In this course, we often ask you to scale data and compute various metrics. Although these practices are \"standard\" in the field, we will require you to demonstrate an understanding of _why_ you need to scale data and use these metrics. Both so that you can make better arguements about your results, and so that you will hopefully make fewer mistakes.\n",
    "\n",
    "First, a few reminders: In this course you should always scale the columns of the feature matrix, and sometimes scale the target data, when it is worth the effort. By scaling, we mean subtracting the mean and dividing by the standard deviation, though there are many other ways to scale data. When scaling either the feature matrix or the target data, the intercept becomes a bit harder to implement and understand, so take care.\n",
    "\n",
    "Briefly answer the following:\n",
    "\n",
    "**a)** Why do we scale data?\n",
    "\n",
    "Answer: To ensure that data with larger ranges do not dominate the model.\n",
    "\n",
    "**b)** Why does the OLS method give practically equivalent models on scaled and unscaled data?\n",
    "\n",
    "Answer: Only the mathematical relations between the variables are relevant in OLS regression, and scaling preserves those relationships.\n",
    "\n",
    "**c)** Why does the Ridge method **not** give practically equivelent models on scaled and unscaled data? Why do we only consider the model on scaled data correct?\n",
    "\n",
    "Answer: Ridge regression uses a cost function which penalizes the 2-norm of the model parameter vector. The squared value of the parameters themselves contribute to the cost function, and thus unscaled data will lead to a different result. Scaling the data ensures that each feature is taken into account, no only those with large absolute values. \n",
    "\n",
    "**d)** Why do we say that the Ridge method gives a biased model?\n",
    "\n",
    "Answer: The introduction of the penalty term proportional to the squared model parameters forces them to shrink, reducing variance and overfitting at the expense of a non-zero bias.\n",
    "\n",
    "**e)** Is the MSE of the OLS method affected by scaling of the feature matrix? Is it affected by scaling of the target data?\n",
    "\n",
    "Answer: Scaling of the feature matrix will lead to an inverse scaling of the optimal model parameters, so the effects cancel out. Scaling of the target data on the other hand will change the MSE.\n",
    "\n",
    "**f)** Read about the R2 score, a metric we will ask you to use a lot later in the course. Is the R2 score of the OLS method affected by scaling of the feature matrix? Is it affected by scaling of the target data?\n",
    "\n",
    "Answer: The residual sum of squares is proportional to the MSE, so that term is not affected by scaling of the feature matrix for the same reason as before. The total sum of squares does not depend on $X$. So the R2 score is independent of feature scaling. \n",
    "The predicted value of $y$ is proportional to $y$ in OLS, so $SS_{res}$ will scale like the square of the scaling factor for $y$. $SS_{tot}$ also scales like the square of $y$. Therefore, the ratio between $SS_{res}$ and $SS_{tot}$ is constant and the R2 score is independent of scaling of the target data.\n",
    "\n",
    "**g)** Give interpretations of the following R2 scores: 0, 0.5, 1.\n",
    "\n",
    "Answer: If R2=0, then the model is no better fit than just a flat line equal to the mean of the data set. \n",
    "        If R2=0.5, then the model explains 50% of the variability of the data. \n",
    "        If R2=1, then there is a perfect fit between the predicted and target values.\n",
    "\n",
    "**h)** What is an advantage of the R2 score over the MSE?\n",
    "\n",
    "Answer: It is independent of scaling of both the features and the target data."
   ]
  }
 ],
 "metadata": {
  "kernelspec": {
   "display_name": ".venv",
   "language": "python",
   "name": "python3"
  },
  "language_info": {
   "codemirror_mode": {
    "name": "ipython",
    "version": 3
   },
   "file_extension": ".py",
   "mimetype": "text/x-python",
   "name": "python",
   "nbconvert_exporter": "python",
   "pygments_lexer": "ipython3",
   "version": "3.13.7"
  }
 },
 "nbformat": 4,
 "nbformat_minor": 5
}
